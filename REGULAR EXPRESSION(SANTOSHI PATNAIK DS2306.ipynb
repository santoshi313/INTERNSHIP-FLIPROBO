{
 "cells": [
  {
   "cell_type": "markdown",
   "id": "2282d749",
   "metadata": {},
   "source": [
    "Question 1- Write a Python program to check that a string contains only a certain set of characters \n",
    "(in this case a-z, A-Z and 0-9).\n",
    "\n"
   ]
  },
  {
   "cell_type": "code",
   "execution_count": 192,
   "id": "2896f7dc",
   "metadata": {},
   "outputs": [
    {
     "name": "stdout",
     "output_type": "stream",
     "text": [
      "True\n",
      "False\n"
     ]
    }
   ],
   "source": [
    "import re\n",
    "def character_check(text):\n",
    "    pattern=re.compile(r'[^a-zA-Z0-9]')\n",
    "    result=pattern.search(text)\n",
    "    return not bool(result)\n",
    "\n",
    "print(character_check(\"ABCdegh90\"))\n",
    "print(character_check(\"%67hgvdty\"))"
   ]
  },
  {
   "cell_type": "markdown",
   "id": "28264385",
   "metadata": {},
   "source": [
    "Question 2- Create a function in python that matches a string that has an a followed by zero or more b's\n",
    "\n"
   ]
  },
  {
   "cell_type": "code",
   "execution_count": 12,
   "id": "5d35daee",
   "metadata": {},
   "outputs": [
    {
     "name": "stdout",
     "output_type": "stream",
     "text": [
      "None\n",
      "<re.Match object; span=(0, 2), match='ab'>\n",
      "None\n",
      "<re.Match object; span=(0, 3), match='abb'>\n",
      "<re.Match object; span=(0, 1), match='a'>\n"
     ]
    }
   ],
   "source": [
    "def function1(string):\n",
    "    pattern='(^a(b*$))'\n",
    "    print(re.search(pattern,string))\n",
    "    \n",
    "function1(\"a111\") \n",
    "function1(\"ab\")\n",
    "function1(\"aaa\")\n",
    "function1(\"abb\")\n",
    "function1(\"a\")"
   ]
  },
  {
   "cell_type": "markdown",
   "id": "6f142733",
   "metadata": {},
   "source": [
    "Question 3-  Create a function in python that matches a string that has an a followed by one or more b's"
   ]
  },
  {
   "cell_type": "code",
   "execution_count": 13,
   "id": "4426e14b",
   "metadata": {},
   "outputs": [
    {
     "name": "stdout",
     "output_type": "stream",
     "text": [
      "None\n",
      "<re.Match object; span=(0, 2), match='ab'>\n",
      "None\n",
      "<re.Match object; span=(0, 3), match='abb'>\n",
      "None\n"
     ]
    }
   ],
   "source": [
    "def function2(string):\n",
    "    pattern='(^a(b+$))'\n",
    "    print(re.search(pattern,string))\n",
    "    \n",
    "function2(\"a111\") \n",
    "function2(\"ab\")\n",
    "function2(\"aaa\")\n",
    "function2(\"abb\")\n",
    "function2(\"a\")  # contains no b.. so result will be none"
   ]
  },
  {
   "cell_type": "markdown",
   "id": "94834b48",
   "metadata": {},
   "source": [
    "Question 4- Create a function in Python and use RegEx that matches a string that has an a followed by zero or one 'b'.\n",
    "\n"
   ]
  },
  {
   "cell_type": "code",
   "execution_count": 14,
   "id": "efc36b0d",
   "metadata": {},
   "outputs": [
    {
     "name": "stdout",
     "output_type": "stream",
     "text": [
      "None\n",
      "<re.Match object; span=(0, 2), match='ab'>\n",
      "None\n",
      "<re.Match object; span=(0, 3), match='abb'>\n",
      "<re.Match object; span=(0, 1), match='a'>\n"
     ]
    }
   ],
   "source": [
    " def function3(string):\n",
    "    pattern='(^a(b*|b+)$)'   \n",
    "    print(re.search(pattern,string))\n",
    "    \n",
    "    \n",
    "function3(\"a111\") \n",
    "function3(\"ab\")\n",
    "function3(\"aaa\")\n",
    "function3(\"abb\")\n",
    "function3(\"a\")    "
   ]
  },
  {
   "cell_type": "markdown",
   "id": "95cf5e3c",
   "metadata": {},
   "source": [
    "Question 5- Write a Python program that matches a string that has an a followed by three 'b'."
   ]
  },
  {
   "cell_type": "code",
   "execution_count": 18,
   "id": "45d4e98d",
   "metadata": {},
   "outputs": [
    {
     "name": "stdout",
     "output_type": "stream",
     "text": [
      "None\n",
      "pattern object matched\n",
      "None\n",
      "pattern object matched\n",
      "<re.Match object; span=(0, 4), match='abbb'>\n",
      "pattern object matched\n"
     ]
    }
   ],
   "source": [
    "def function_match(string):\n",
    "    pattern='ab{3}?'\n",
    "    x=re.search(pattern,string)\n",
    "    print(x)\n",
    "    print(\"pattern object matched\")\n",
    "   \n",
    "\n",
    "function_match(\"ab\")\n",
    "function_match(\"abb\")\n",
    "function_match(\"abbb\")"
   ]
  },
  {
   "cell_type": "markdown",
   "id": "5d25908b",
   "metadata": {},
   "source": [
    "Question 6- Write a regular expression in Python to split a string into uppercase letters.\n",
    "Sample text: “ImportanceOfRegularExpressionsInPython”\n",
    "Output: [‘Importance’, ‘Of’, ‘Regular’, ‘Expression’, ‘In’, ‘Python’]\n",
    "\n"
   ]
  },
  {
   "cell_type": "code",
   "execution_count": 23,
   "id": "25040da8",
   "metadata": {},
   "outputs": [
    {
     "name": "stdout",
     "output_type": "stream",
     "text": [
      "['Importance', 'Of', 'Regular', 'Expression', 'In', 'Python']\n"
     ]
    }
   ],
   "source": [
    "sample_text=\"ImportanceOfRegularExpressionInPython\"\n",
    "\n",
    "result=re.findall('[A-Z][^A-Z]*',sample_text)\n",
    "print(result)\n"
   ]
  },
  {
   "cell_type": "markdown",
   "id": "6489ad67",
   "metadata": {},
   "source": [
    "Question 7- Write a Python program that matches a string that has an a followed by two to three 'b'."
   ]
  },
  {
   "cell_type": "code",
   "execution_count": 32,
   "id": "c3a28a68",
   "metadata": {},
   "outputs": [
    {
     "name": "stdout",
     "output_type": "stream",
     "text": [
      "None\n",
      "<re.Match object; span=(0, 3), match='abb'>\n",
      "None\n",
      "<re.Match object; span=(0, 4), match='abbb'>\n"
     ]
    }
   ],
   "source": [
    "def function4(string2):\n",
    "    pattern='ab{2,3}'\n",
    "    result=re.search(pattern,string2)\n",
    "    print(result)\n",
    "    \n",
    "function4(\"ab\")  \n",
    "function4(\"abb\")\n",
    "function4(\"abc\")\n",
    "function4(\"abbb\")"
   ]
  },
  {
   "cell_type": "markdown",
   "id": "06a5df0d",
   "metadata": {},
   "source": [
    "Question 8- Write a Python program to find sequences of lowercase letters joined with a underscore."
   ]
  },
  {
   "cell_type": "code",
   "execution_count": 46,
   "id": "aab90e86",
   "metadata": {},
   "outputs": [
    {
     "name": "stdout",
     "output_type": "stream",
     "text": [
      "None\n",
      "<re.Match object; span=(0, 7), match='abcd_ef'>\n",
      "<re.Match object; span=(0, 3), match='a_b'>\n"
     ]
    }
   ],
   "source": [
    "def function_lowercase(text):\n",
    "    pattern='^[a-z]+_[a-z]+$'\n",
    "    result=re.search(pattern,text)\n",
    "    print(result)\n",
    "\n",
    "function_lowercase(\"ABCD_EF\")    \n",
    "function_lowercase(\"abcd_ef\")\n",
    "function_lowercase(\"a_b\")"
   ]
  },
  {
   "cell_type": "markdown",
   "id": "c97ab8df",
   "metadata": {},
   "source": [
    "Question 9- Write a Python program that matches a string that has an 'a' followed by anything, ending in 'b'."
   ]
  },
  {
   "cell_type": "code",
   "execution_count": 5,
   "id": "1792a091",
   "metadata": {},
   "outputs": [
    {
     "name": "stdout",
     "output_type": "stream",
     "text": [
      "match pbject: <re.Match object; span=(0, 3), match='a&b'>\n",
      "match pbject: <re.Match object; span=(0, 6), match='abcd@b'>\n",
      "match pbject: None\n"
     ]
    }
   ],
   "source": [
    "def function_a(string):\n",
    "    pattern='^a.*b$'\n",
    "    result=re.search(pattern,string)\n",
    "    print(\"match pbject:\",result)\n",
    "    \n",
    "function_a(\"a&b\")\n",
    "function_a(\"abcd@b\")\n",
    "function_a(\"Beautifull\")\n",
    "    "
   ]
  },
  {
   "cell_type": "markdown",
   "id": "99a6db9c",
   "metadata": {},
   "source": [
    "Question 10- Write a Python program that matches a word at the beginning of a string."
   ]
  },
  {
   "cell_type": "code",
   "execution_count": 10,
   "id": "eb363f8e",
   "metadata": {},
   "outputs": [
    {
     "name": "stdout",
     "output_type": "stream",
     "text": [
      "match object: <re.Match object; span=(0, 5), match='Apple'>\n",
      "match object: None\n"
     ]
    }
   ],
   "source": [
    "def function_word(string):\n",
    "    pattern='^\\w+'\n",
    "    result=re.search(pattern,string)\n",
    "    print(\"match object:\",result)\n",
    "    \n",
    "function_word(\"Apple is my favourite fruit\") \n",
    "function_word(\"%apple is my favourite fruit\")\n",
    "\n"
   ]
  },
  {
   "cell_type": "markdown",
   "id": "2fbc9545",
   "metadata": {},
   "source": [
    "Question 11- Write a Python program to match a string that contains only upper and lowercase letters, numbers, and underscores."
   ]
  },
  {
   "cell_type": "code",
   "execution_count": 16,
   "id": "9b6cb793",
   "metadata": {},
   "outputs": [
    {
     "name": "stdout",
     "output_type": "stream",
     "text": [
      "match object: <re.Match object; span=(0, 19), match='Happy_new_year_2023'>\n",
      "match object: None\n",
      "match object: <re.Match object; span=(0, 28), match='RgularexpressionAssignment_2'>\n"
     ]
    }
   ],
   "source": [
    "def function_11(string):\n",
    "    pattern='^[a-zA-Z0-9_]*$'\n",
    "    result=re.search(pattern,string)\n",
    "    print(\"match object:\",result)\n",
    "    \n",
    "function_11(\"Happy_new_year_2023\")\n",
    "function_11(\"regular expression Assignment-2\") #white space wont be matched by the pattern\n",
    "function_11(\"RgularexpressionAssignment_2\")\n",
    "\n",
    "    "
   ]
  },
  {
   "cell_type": "markdown",
   "id": "21b9b420",
   "metadata": {},
   "source": [
    "Question 12- Write a Python program where a string will start with a specific number. "
   ]
  },
  {
   "cell_type": "code",
   "execution_count": 18,
   "id": "25d6841d",
   "metadata": {},
   "outputs": [
    {
     "name": "stdout",
     "output_type": "stream",
     "text": [
      "match object= <re.Match object; span=(0, 1), match='3'>\n",
      "match object= None\n"
     ]
    }
   ],
   "source": [
    "def function_12(string):\n",
    "    pattern='^3'\n",
    "    result=re.search(pattern,string)\n",
    "    print(\"match object=\",result)\n",
    "    \n",
    "function_12(\"313242\")\n",
    "function_12(\"222_abc\")"
   ]
  },
  {
   "cell_type": "markdown",
   "id": "94dbf46a",
   "metadata": {},
   "source": [
    "Question 13- Write a Python program to remove leading zeros from an IP "
   ]
  },
  {
   "cell_type": "code",
   "execution_count": 21,
   "id": "c26b0b8a",
   "metadata": {},
   "outputs": [
    {
     "name": "stdout",
     "output_type": "stream",
     "text": [
      "222.9.85.233\n"
     ]
    }
   ],
   "source": [
    "def function_ip(ip_address):\n",
    "    result_string=re.sub('\\.[0]*','.',ip_address)\n",
    "    print(result_string)\n",
    "\n",
    "ip_address=\"222.09.085.233\"\n",
    "function_ip(ip_address)"
   ]
  },
  {
   "cell_type": "markdown",
   "id": "63c23478",
   "metadata": {},
   "source": [
    "Question 14- Write a regular expression in python to match a date string in the form of Month name followed by day number and year stored in a text file."
   ]
  },
  {
   "cell_type": "code",
   "execution_count": 25,
   "id": "dbc34a1d",
   "metadata": {},
   "outputs": [
    {
     "name": "stdout",
     "output_type": "stream",
     "text": [
      "None\n",
      "None\n",
      "None\n"
     ]
    }
   ],
   "source": [
    "def function_date(date_string):\n",
    "    pattern='^(\\w+)[/.-](/d{2})[\\.-](\\d{4})$'\n",
    "    result=re.match(pattern,date_string)\n",
    "    print(result)\n",
    "    \n",
    "function_date(\"january-26-2023\")\n",
    "function_date(\"December-03-2019\")\n",
    "function_date(\"04-08-2023\")"
   ]
  },
  {
   "cell_type": "code",
   "execution_count": 165,
   "id": "07f7fb2f",
   "metadata": {},
   "outputs": [],
   "source": [
    "file1=open(\"january-26-2023(dateformat).txt\")"
   ]
  },
  {
   "cell_type": "code",
   "execution_count": 175,
   "id": "da8ffe30",
   "metadata": {},
   "outputs": [
    {
     "name": "stdout",
     "output_type": "stream",
     "text": [
      "[]\n"
     ]
    }
   ],
   "source": [
    "content=file1.read()\n",
    "pattern=pattern='^(\\w+)[\\.-](\\d{2})[\\.-](\\d{4})$'\n",
    "result=re.findall(pattern,content)\n",
    "print(result)"
   ]
  },
  {
   "cell_type": "markdown",
   "id": "9bdd8afb",
   "metadata": {},
   "source": [
    "Question 15- Write a Python program to search some literals strings in a string. Go to the editor\n",
    "Sample text : 'The quick brown fox jumps over the lazy dog.'\n",
    "Searched words : 'fox', 'dog', 'horse'\n"
   ]
  },
  {
   "cell_type": "code",
   "execution_count": 5,
   "id": "7ab4e8c3",
   "metadata": {},
   "outputs": [
    {
     "name": "stdout",
     "output_type": "stream",
     "text": [
      "match object: <re.Match object; span=(16, 19), match='fox'>\n",
      "match object: <re.Match object; span=(40, 43), match='dog'>\n",
      "match object: None\n"
     ]
    }
   ],
   "source": [
    "pattern=['fox','dog','horse']\n",
    "sample_text='The quick brown fox jumps over the lazy dog.'\n",
    "for i in pattern:\n",
    "    result=re.search(i,sample_text)\n",
    "    print(\"match object:\",result)\n",
    "    \n",
    "    "
   ]
  },
  {
   "cell_type": "markdown",
   "id": "5f6a96c1",
   "metadata": {},
   "source": [
    "Question 16- Write a Python program to search a literals string in a string and also find the location within the original string where the pattern occurs\n",
    "Sample text : 'The quick brown fox jumps over the lazy dog.'\n",
    "Searched words : 'fox'\n"
   ]
  },
  {
   "cell_type": "code",
   "execution_count": 8,
   "id": "3f1bf339",
   "metadata": {},
   "outputs": [
    {
     "name": "stdout",
     "output_type": "stream",
     "text": [
      "match_object: fox\n",
      "start_index: 16\n",
      "end_index: 19\n"
     ]
    }
   ],
   "source": [
    "pattern='fox'\n",
    "sample_text='The quick brown fox jumps over the lazy dog.' \n",
    "result=re.search(pattern,sample_text)\n",
    "start_index=result.start()\n",
    "end_index=result.end()\n",
    "print(\"match_object:\",result.group())\n",
    "print(\"start_index:\",start_index)\n",
    "print(\"end_index:\",end_index)"
   ]
  },
  {
   "cell_type": "markdown",
   "id": "9eea6d8b",
   "metadata": {},
   "source": [
    "Question 17- Write a Python program to find the substrings within a string.\n",
    "Sample text : 'Python exercises, PHP exercises, C# exercises'\n",
    "Pattern : 'exercises'.\n"
   ]
  },
  {
   "cell_type": "code",
   "execution_count": 12,
   "id": "0d3c5ff6",
   "metadata": {},
   "outputs": [
    {
     "name": "stdout",
     "output_type": "stream",
     "text": [
      "sub string found exercises\n",
      "sub string found exercises\n",
      "sub string found exercises\n"
     ]
    }
   ],
   "source": [
    "sample_text1='Python exercises, PHP exercises, C# exercises'\n",
    "pattern ='exercises'\n",
    "for i in re.findall(pattern,sample_text1):\n",
    "    print(\"sub string found\",i)\n",
    " \n"
   ]
  },
  {
   "cell_type": "markdown",
   "id": "aa57f006",
   "metadata": {},
   "source": [
    "Question 18- Write a Python program to find the occurrence and position of the substrings within a string."
   ]
  },
  {
   "cell_type": "code",
   "execution_count": 14,
   "id": "99cd2500",
   "metadata": {},
   "outputs": [
    {
     "name": "stdout",
     "output_type": "stream",
     "text": [
      "<re.Match object; span=(0, 5), match='kabhi'>\n",
      "start Index 0\n",
      "End index 5\n",
      "<re.Match object; span=(12, 17), match='kabhi'>\n",
      "start Index 12\n",
      "End index 17\n"
     ]
    }
   ],
   "source": [
    "string='kabhi khusi kabhi gum'\n",
    "pattern='kabhi'\n",
    "for i in re.finditer(pattern,string):\n",
    "    print(i)\n",
    "    start_index=i.start()\n",
    "    print(\"start Index\",start_index)\n",
    "    end_index=i.end()\n",
    "    print(\"End index\",end_index)"
   ]
  },
  {
   "cell_type": "markdown",
   "id": "ec19f0f1",
   "metadata": {},
   "source": [
    "Question 19- Write a Python program to convert a date of yyyy-mm-dd format to dd-mm-yyyy format.\n",
    "\n"
   ]
  },
  {
   "cell_type": "code",
   "execution_count": 20,
   "id": "5b45edec",
   "metadata": {},
   "outputs": [
    {
     "name": "stdout",
     "output_type": "stream",
     "text": [
      "2023-07-16\n",
      "16-07-2023\n"
     ]
    }
   ],
   "source": [
    "def function_date(date_string):\n",
    "    result=re.sub(r'(\\d{4})-(\\d{2})-(\\d{2})','\\\\3-\\\\2-\\\\1',date_string)\n",
    "    return result\n",
    "\n",
    "test_date=\"2023-07-16\"\n",
    "print(test_date)\n",
    "converted_date=function_date(test_date)\n",
    "print(converted_date)\n"
   ]
  },
  {
   "cell_type": "markdown",
   "id": "a36fd08e",
   "metadata": {},
   "source": [
    "Question 20- Write a Python program to find all words starting with 'a' or 'e' in a given string."
   ]
  },
  {
   "cell_type": "code",
   "execution_count": 177,
   "id": "27475469",
   "metadata": {},
   "outputs": [
    {
     "name": "stdout",
     "output_type": "stream",
     "text": [
      "['engineer', 'abbas', 'as', 'an', 'elp', 'air', 'and', 'eal', 'eathers']\n"
     ]
    }
   ],
   "source": [
    "string='engineer abbas ibn Firnas is the first human to fly with the help of a pair of wings built by silk,wood and real feathers'\n",
    "result=re.findall(\"[ae]\\w+\",string)\n",
    "print(result)"
   ]
  },
  {
   "cell_type": "markdown",
   "id": "60c93e31",
   "metadata": {},
   "source": [
    "Question 21- Write a Python program to separate and print the numbers and their position of a given string.\n",
    "\n"
   ]
  },
  {
   "cell_type": "code",
   "execution_count": 38,
   "id": "46c1afb5",
   "metadata": {},
   "outputs": [
    {
     "name": "stdout",
     "output_type": "stream",
     "text": [
      "50\n",
      "position of match object: 8\n",
      "20\n",
      "position of match object: 29\n",
      "45\n",
      "position of match object: 53\n"
     ]
    }
   ],
   "source": [
    "string21='ram has 50 apples, shyam has 20 appes, but geeta has 45 apples'\n",
    "for i in re.finditer(\"\\d+\",string21):\n",
    "    print(i.group())\n",
    "    start_index=i.start()\n",
    "    print(\"position of match object:\",start_index)"
   ]
  },
  {
   "cell_type": "markdown",
   "id": "92a8206a",
   "metadata": {},
   "source": [
    "Question 22- Write a regular expression in python program to extract maximum numeric value from a string"
   ]
  },
  {
   "cell_type": "code",
   "execution_count": 49,
   "id": "aa2247a9",
   "metadata": {},
   "outputs": [
    {
     "name": "stdout",
     "output_type": "stream",
     "text": [
      "2023\n"
     ]
    }
   ],
   "source": [
    "def function_max_integer(string):\n",
    "    for i in re.finditer(\"\\d+\",string):\n",
    "        result=i.group()\n",
    "        number=int(result)\n",
    "    \n",
    "        max=0\n",
    "        if(number>max):\n",
    "            max=number;\n",
    "    return max;\n",
    "            \n",
    "maximum_number=function_max_integer(\"there are 29 days in february 2023\")  \n",
    "\n",
    "print(maximum_number)"
   ]
  },
  {
   "cell_type": "markdown",
   "id": "c330407d",
   "metadata": {},
   "source": [
    "Question 23- Write a Regex in Python to put spaces between words starting with capital letters"
   ]
  },
  {
   "cell_type": "code",
   "execution_count": 185,
   "id": "54ad6a3c",
   "metadata": {},
   "outputs": [
    {
     "name": "stdout",
     "output_type": "stream",
     "text": [
      "Regula\u0001\u0002xpression\n"
     ]
    }
   ],
   "source": [
    "def function23(string):\n",
    "    result=re.sub(r'(\\w)[A-Z]','\\1\\2',string)\n",
    "    print(result)\n",
    "    \n",
    "function23(\"RegularExpression\")    "
   ]
  },
  {
   "cell_type": "markdown",
   "id": "8f12671c",
   "metadata": {},
   "source": [
    "Question 24- Python regex to find sequences of one upper case letter followed by lower case letters"
   ]
  },
  {
   "cell_type": "code",
   "execution_count": 60,
   "id": "41fb8d1d",
   "metadata": {},
   "outputs": [
    {
     "name": "stdout",
     "output_type": "stream",
     "text": [
      "None\n",
      "None\n",
      "<re.Match object; span=(0, 5), match='Apple'>\n"
     ]
    }
   ],
   "source": [
    "def function_upper_lower(string):\n",
    "    pattern='[A-Z]+[a-z]+$'\n",
    "    result=re.search(pattern,string)\n",
    "    print(result)\n",
    "\n",
    "function_upper_lower(\"APPLE\")\n",
    "function_upper_lower(\"apple\")\n",
    "function_upper_lower('Apple')\n"
   ]
  },
  {
   "cell_type": "markdown",
   "id": "2fbbf3da",
   "metadata": {},
   "source": [
    "Question 25- Write a Python program to remove duplicate words from Sentence using Regular Expression"
   ]
  },
  {
   "cell_type": "code",
   "execution_count": 209,
   "id": "2220fc8a",
   "metadata": {},
   "outputs": [
    {
     "name": "stdout",
     "output_type": "stream",
     "text": [
      "hapy_new_year\n"
     ]
    }
   ],
   "source": [
    "def function_duplicate(string):\n",
    "    #string1='ram went went to to his home'\n",
    "    #pattern=r'\\b(\\w+)(?:\\w+\\1\\b)+'\n",
    "    result=re.sub(r'(\\w+)\\1',r'\\1',string)\n",
    "    print(result)\n",
    "\n",
    "function_duplicate(\"happy_new_new_year\")"
   ]
  },
  {
   "cell_type": "markdown",
   "id": "19124658",
   "metadata": {},
   "source": [
    "Question 26-  Write a python program using RegEx to accept string ending with alphanumeric character.\n",
    "\n"
   ]
  },
  {
   "cell_type": "code",
   "execution_count": 98,
   "id": "021b0891",
   "metadata": {},
   "outputs": [
    {
     "name": "stdout",
     "output_type": "stream",
     "text": [
      "match found: <re.Match object; span=(7, 8), match='3'>\n",
      "match found: None\n"
     ]
    }
   ],
   "source": [
    "def function_alphanumeric(string):\n",
    "    pattern=r'[a-zA-Z0-9]$'\n",
    "    result=re.search(pattern,string)\n",
    "    print(\"match found:\",result)\n",
    "    \n",
    "function_alphanumeric(\"abcd_123\")\n",
    "function_alphanumeric(\"abcd_%\")"
   ]
  },
  {
   "cell_type": "markdown",
   "id": "702ae33d",
   "metadata": {},
   "source": [
    "Question 27-Write a python program using RegEx to extract the hashtags.\n",
    "Sample Text: text = \"\"\"RT @kapil_kausik: #Doltiwal I mean #xyzabc is \"hurt\" by #Demonetization as the same has rendered USELESS <ed><U+00A0><U+00BD><ed><U+00B1><U+0089> \"acquired funds\" No wo\"\"\"\n",
    "Output: ['#Doltiwal', '#xyzabc', '#Demonetization']\n",
    "\n"
   ]
  },
  {
   "cell_type": "code",
   "execution_count": 100,
   "id": "abc33742",
   "metadata": {},
   "outputs": [
    {
     "name": "stdout",
     "output_type": "stream",
     "text": [
      "['Doltiwal', 'xyzabc', 'Demonetization']\n"
     ]
    }
   ],
   "source": [
    "text=\"\"\"RT @kapil_kausik: #Doltiwal I mean #xyzabc is \"hurt\" by #Demonetization as the same has rendered USELESS <U+00A0><U+00BD><U+00B1><U+0089> \"acquired funds\" No wo\"\"\"\n",
    "result=re.findall(r'#(\\w+)',text)\n",
    "print(result)"
   ]
  },
  {
   "cell_type": "markdown",
   "id": "9a1102f0",
   "metadata": {},
   "source": [
    "Question 28- Write a python program using RegEx to remove <U+..> like symbols\n",
    "Check the below sample text, there are strange symbols something of the sort <U+..> all over the place. You need to come up with a general Regex expression that will cover all such symbols.\n",
    "Sample Text: \"@Jags123456 Bharat band on 28??<ed><U+00A0><U+00BD><ed><U+00B8><U+0082>Those who  are protesting #demonetization  are all different party leaders\"\n",
    "Output: @Jags123456 Bharat band on 28??<ed><ed>Those who  are protesting #demonetization  are all different party leaders\n"
   ]
  },
  {
   "cell_type": "code",
   "execution_count": 229,
   "id": "53de6724",
   "metadata": {},
   "outputs": [
    {
     "name": "stdout",
     "output_type": "stream",
     "text": [
      "@Jags123456 Bharat band on 28??   00A0    00BD    00B8    0082 Those who are protesting #demonetization are all different party leaders\n"
     ]
    }
   ],
   "source": [
    "sample_text=\"@Jags123456 Bharat band on 28??<U+00A0><U+00BD><U+00B8><U+0082>Those who are protesting #demonetization are all different party leaders\"\n",
    "pattern=r'[<U\\.+>$]'\n",
    "result=re.sub(pattern,\" \",sample_text)\n",
    "print(result)"
   ]
  },
  {
   "cell_type": "markdown",
   "id": "60ac9edc",
   "metadata": {},
   "source": [
    "Question 29- Write a python program to extract dates from the text stored in the text file.\n",
    "Sample Text: Ron was born on 12-09-1992 and he was admitted to school 15-12-1999.\n",
    "Store this sample text in the file and then extract dates.\n"
   ]
  },
  {
   "cell_type": "code",
   "execution_count": 151,
   "id": "c71807ab",
   "metadata": {},
   "outputs": [],
   "source": [
    "file=open(\"sampletext.txt\",\"r\")"
   ]
  },
  {
   "cell_type": "code",
   "execution_count": 152,
   "id": "fe579244",
   "metadata": {},
   "outputs": [],
   "source": [
    "content=file.read()"
   ]
  },
  {
   "cell_type": "code",
   "execution_count": 153,
   "id": "5e1aef04",
   "metadata": {},
   "outputs": [
    {
     "name": "stdout",
     "output_type": "stream",
     "text": [
      "['12-09-1992', '15-12-1999']\n"
     ]
    }
   ],
   "source": [
    "pattern='\\d{2}[/-]\\d{2}[/-]\\d{4}'\n",
    "result=re.findall(pattern,content)\n",
    "print(result)"
   ]
  },
  {
   "cell_type": "markdown",
   "id": "714d2114",
   "metadata": {},
   "source": [
    "Question 30- Write a Python program to replace all occurrences of a space, comma, or dot with a colon.\n",
    "Sample Text- 'Python Exercises, PHP exercises.'\n",
    "Output: Python:Exercises::PHP:exercises:\n",
    "\n",
    "\n"
   ]
  },
  {
   "cell_type": "code",
   "execution_count": 154,
   "id": "44e7841d",
   "metadata": {},
   "outputs": [
    {
     "name": "stdout",
     "output_type": "stream",
     "text": [
      "Python:Exercises::PHP:exercises:\n"
     ]
    }
   ],
   "source": [
    "text='Python Exercises, PHP exercises.'\n",
    "pattern=\"[ ,.]\"\n",
    "result=re.sub(pattern,\":\",text)\n",
    "print(result)"
   ]
  },
  {
   "cell_type": "code",
   "execution_count": null,
   "id": "e98679e5",
   "metadata": {},
   "outputs": [],
   "source": []
  }
 ],
 "metadata": {
  "kernelspec": {
   "display_name": "Python 3 (ipykernel)",
   "language": "python",
   "name": "python3"
  },
  "language_info": {
   "codemirror_mode": {
    "name": "ipython",
    "version": 3
   },
   "file_extension": ".py",
   "mimetype": "text/x-python",
   "name": "python",
   "nbconvert_exporter": "python",
   "pygments_lexer": "ipython3",
   "version": "3.9.13"
  }
 },
 "nbformat": 4,
 "nbformat_minor": 5
}
